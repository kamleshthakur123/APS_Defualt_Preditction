{
 "cells": [
  {
   "cell_type": "code",
   "execution_count": 1,
   "metadata": {},
   "outputs": [],
   "source": [
    "from scipy.stats import ks_2samp\n",
    "import numpy as np"
   ]
  },
  {
   "cell_type": "code",
   "execution_count": 2,
   "metadata": {},
   "outputs": [
    {
     "data": {
      "text/plain": [
       "KstestResult(statistic=0.5454545454545454, pvalue=7.37417839555191e-15)"
      ]
     },
     "execution_count": 2,
     "metadata": {},
     "output_type": "execute_result"
    }
   ],
   "source": [
    "from scipy import stats\n",
    "rng = np.random.default_rng()\n",
    "sample1 = stats.uniform.rvs(size=100, random_state=rng)\n",
    "sample2 = stats.norm.rvs(size=110, random_state=rng)\n",
    "stats.ks_2samp(sample1, sample2)"
   ]
  },
  {
   "cell_type": "code",
   "execution_count": 5,
   "metadata": {},
   "outputs": [],
   "source": [
    "### Here null hpyothesis that two distributions are identical"
   ]
  },
  {
   "cell_type": "code",
   "execution_count": 6,
   "metadata": {},
   "outputs": [],
   "source": [
    "### Anomly in my dataset\n",
    "### High null value if we get\n",
    "### not enough column\n",
    "### getting so much outlier\n",
    "### for cat column:   for gender male, famale in original data but in training data i also get other catogary"
   ]
  },
  {
   "cell_type": "code",
   "execution_count": 3,
   "metadata": {},
   "outputs": [],
   "source": [
    "import pandas as pd"
   ]
  },
  {
   "cell_type": "code",
   "execution_count": 4,
   "metadata": {},
   "outputs": [],
   "source": [
    "df=pd.read_csv(\"/config/workspace/aps_failure_training_set1.csv\")"
   ]
  },
  {
   "cell_type": "code",
   "execution_count": 4,
   "metadata": {},
   "outputs": [
    {
     "data": {
      "text/html": [
       "<div>\n",
       "<style scoped>\n",
       "    .dataframe tbody tr th:only-of-type {\n",
       "        vertical-align: middle;\n",
       "    }\n",
       "\n",
       "    .dataframe tbody tr th {\n",
       "        vertical-align: top;\n",
       "    }\n",
       "\n",
       "    .dataframe thead th {\n",
       "        text-align: right;\n",
       "    }\n",
       "</style>\n",
       "<table border=\"1\" class=\"dataframe\">\n",
       "  <thead>\n",
       "    <tr style=\"text-align: right;\">\n",
       "      <th></th>\n",
       "      <th>class</th>\n",
       "      <th>aa_000</th>\n",
       "      <th>ab_000</th>\n",
       "      <th>ac_000</th>\n",
       "      <th>ad_000</th>\n",
       "      <th>ae_000</th>\n",
       "      <th>af_000</th>\n",
       "      <th>ag_000</th>\n",
       "      <th>ag_001</th>\n",
       "      <th>ag_002</th>\n",
       "      <th>...</th>\n",
       "      <th>ee_002</th>\n",
       "      <th>ee_003</th>\n",
       "      <th>ee_004</th>\n",
       "      <th>ee_005</th>\n",
       "      <th>ee_006</th>\n",
       "      <th>ee_007</th>\n",
       "      <th>ee_008</th>\n",
       "      <th>ee_009</th>\n",
       "      <th>ef_000</th>\n",
       "      <th>eg_000</th>\n",
       "    </tr>\n",
       "  </thead>\n",
       "  <tbody>\n",
       "    <tr>\n",
       "      <th>0</th>\n",
       "      <td>pos</td>\n",
       "      <td>153204</td>\n",
       "      <td>0</td>\n",
       "      <td>182</td>\n",
       "      <td>na</td>\n",
       "      <td>0</td>\n",
       "      <td>0</td>\n",
       "      <td>0</td>\n",
       "      <td>0</td>\n",
       "      <td>0</td>\n",
       "      <td>...</td>\n",
       "      <td>129862</td>\n",
       "      <td>26872</td>\n",
       "      <td>34044</td>\n",
       "      <td>22472</td>\n",
       "      <td>34362</td>\n",
       "      <td>0</td>\n",
       "      <td>0</td>\n",
       "      <td>0</td>\n",
       "      <td>0</td>\n",
       "      <td>0</td>\n",
       "    </tr>\n",
       "    <tr>\n",
       "      <th>1</th>\n",
       "      <td>pos</td>\n",
       "      <td>453236</td>\n",
       "      <td>na</td>\n",
       "      <td>2926</td>\n",
       "      <td>na</td>\n",
       "      <td>0</td>\n",
       "      <td>0</td>\n",
       "      <td>0</td>\n",
       "      <td>0</td>\n",
       "      <td>222</td>\n",
       "      <td>...</td>\n",
       "      <td>7908038</td>\n",
       "      <td>3026002</td>\n",
       "      <td>5025350</td>\n",
       "      <td>2025766</td>\n",
       "      <td>1160638</td>\n",
       "      <td>533834</td>\n",
       "      <td>493800</td>\n",
       "      <td>6914</td>\n",
       "      <td>0</td>\n",
       "      <td>0</td>\n",
       "    </tr>\n",
       "    <tr>\n",
       "      <th>2</th>\n",
       "      <td>pos</td>\n",
       "      <td>72504</td>\n",
       "      <td>na</td>\n",
       "      <td>1594</td>\n",
       "      <td>1052</td>\n",
       "      <td>0</td>\n",
       "      <td>0</td>\n",
       "      <td>0</td>\n",
       "      <td>244</td>\n",
       "      <td>178226</td>\n",
       "      <td>...</td>\n",
       "      <td>1432098</td>\n",
       "      <td>372252</td>\n",
       "      <td>527514</td>\n",
       "      <td>358274</td>\n",
       "      <td>332818</td>\n",
       "      <td>284178</td>\n",
       "      <td>3742</td>\n",
       "      <td>0</td>\n",
       "      <td>0</td>\n",
       "      <td>0</td>\n",
       "    </tr>\n",
       "    <tr>\n",
       "      <th>3</th>\n",
       "      <td>pos</td>\n",
       "      <td>762958</td>\n",
       "      <td>na</td>\n",
       "      <td>na</td>\n",
       "      <td>na</td>\n",
       "      <td>na</td>\n",
       "      <td>na</td>\n",
       "      <td>776</td>\n",
       "      <td>281128</td>\n",
       "      <td>2186308</td>\n",
       "      <td>...</td>\n",
       "      <td>na</td>\n",
       "      <td>na</td>\n",
       "      <td>na</td>\n",
       "      <td>na</td>\n",
       "      <td>na</td>\n",
       "      <td>na</td>\n",
       "      <td>na</td>\n",
       "      <td>na</td>\n",
       "      <td>na</td>\n",
       "      <td>na</td>\n",
       "    </tr>\n",
       "    <tr>\n",
       "      <th>4</th>\n",
       "      <td>pos</td>\n",
       "      <td>695994</td>\n",
       "      <td>na</td>\n",
       "      <td>na</td>\n",
       "      <td>na</td>\n",
       "      <td>na</td>\n",
       "      <td>na</td>\n",
       "      <td>0</td>\n",
       "      <td>0</td>\n",
       "      <td>0</td>\n",
       "      <td>...</td>\n",
       "      <td>1397742</td>\n",
       "      <td>495544</td>\n",
       "      <td>361646</td>\n",
       "      <td>28610</td>\n",
       "      <td>5130</td>\n",
       "      <td>212</td>\n",
       "      <td>0</td>\n",
       "      <td>0</td>\n",
       "      <td>na</td>\n",
       "      <td>na</td>\n",
       "    </tr>\n",
       "  </tbody>\n",
       "</table>\n",
       "<p>5 rows × 171 columns</p>\n",
       "</div>"
      ],
      "text/plain": [
       "  class  aa_000 ab_000 ac_000 ad_000 ae_000 af_000 ag_000  ag_001   ag_002  \\\n",
       "0   pos  153204      0    182     na      0      0      0       0        0   \n",
       "1   pos  453236     na   2926     na      0      0      0       0      222   \n",
       "2   pos   72504     na   1594   1052      0      0      0     244   178226   \n",
       "3   pos  762958     na     na     na     na     na    776  281128  2186308   \n",
       "4   pos  695994     na     na     na     na     na      0       0        0   \n",
       "\n",
       "   ...   ee_002   ee_003   ee_004   ee_005   ee_006  ee_007  ee_008 ee_009  \\\n",
       "0  ...   129862    26872    34044    22472    34362       0       0      0   \n",
       "1  ...  7908038  3026002  5025350  2025766  1160638  533834  493800   6914   \n",
       "2  ...  1432098   372252   527514   358274   332818  284178    3742      0   \n",
       "3  ...       na       na       na       na       na      na      na     na   \n",
       "4  ...  1397742   495544   361646    28610     5130     212       0      0   \n",
       "\n",
       "  ef_000 eg_000  \n",
       "0      0      0  \n",
       "1      0      0  \n",
       "2      0      0  \n",
       "3     na     na  \n",
       "4     na     na  \n",
       "\n",
       "[5 rows x 171 columns]"
      ]
     },
     "execution_count": 4,
     "metadata": {},
     "output_type": "execute_result"
    }
   ],
   "source": [
    "df.head()"
   ]
  },
  {
   "cell_type": "code",
   "execution_count": 5,
   "metadata": {},
   "outputs": [],
   "source": [
    "import numpy as np"
   ]
  },
  {
   "cell_type": "code",
   "execution_count": 6,
   "metadata": {},
   "outputs": [],
   "source": [
    "df.replace(to_replace='na',value=np.NAN,inplace=True)"
   ]
  },
  {
   "cell_type": "code",
   "execution_count": 7,
   "metadata": {},
   "outputs": [
    {
     "name": "stdout",
     "output_type": "stream",
     "text": [
      "class 0.0\n",
      "aa_000 0.0\n",
      "ab_000 77.086326959213\n",
      "ac_000 5.916325853874213\n",
      "ad_000 25.422792085774287\n",
      "ae_000 4.385431634796065\n",
      "af_000 4.385431634796065\n",
      "ag_000 1.0473085000552669\n",
      "ag_001 1.0473085000552669\n",
      "ag_002 1.0473085000552669\n",
      "ag_003 1.0473085000552669\n",
      "ag_004 1.0473085000552669\n",
      "ag_005 1.0473085000552669\n",
      "ag_006 1.0473085000552669\n",
      "ag_007 1.0473085000552669\n",
      "ag_008 1.0473085000552669\n",
      "ag_009 1.0473085000552669\n",
      "ah_000 1.055598540952802\n",
      "ai_000 1.0362551121918868\n",
      "aj_000 1.0362551121918868\n",
      "ak_000 7.6903946059467225\n",
      "al_000 1.055598540952802\n",
      "am_0 1.0362551121918868\n",
      "an_000 1.055598540952802\n",
      "ao_000 0.9533547032165359\n",
      "ap_000 1.055598540952802\n",
      "aq_000 0.9533547032165359\n",
      "ar_000 4.7778269039460595\n",
      "as_000 1.0362551121918868\n",
      "at_000 1.0362551121918868\n",
      "au_000 1.0362551121918868\n",
      "av_000 4.38819498176191\n",
      "ax_000 4.390958328727755\n",
      "ay_000 1.0473085000552669\n",
      "ay_001 1.0473085000552669\n",
      "ay_002 1.0473085000552669\n",
      "ay_003 1.0473085000552669\n",
      "ay_004 1.0473085000552669\n",
      "ay_005 1.0473085000552669\n",
      "ay_006 1.0473085000552669\n",
      "ay_007 1.0473085000552669\n",
      "ay_008 1.0473085000552669\n",
      "ay_009 1.0473085000552669\n",
      "az_000 1.0473085000552669\n",
      "az_001 1.0473085000552669\n",
      "az_002 1.0473085000552669\n",
      "az_003 1.0473085000552669\n",
      "az_004 1.0473085000552669\n",
      "az_005 1.0473085000552669\n",
      "az_006 1.0473085000552669\n",
      "az_007 1.0473085000552669\n",
      "az_008 1.0473085000552669\n",
      "az_009 1.0473085000552669\n",
      "ba_000 1.0666519288161822\n",
      "ba_001 1.0666519288161822\n",
      "ba_002 1.0666519288161822\n",
      "ba_003 1.0666519288161822\n",
      "ba_004 1.0666519288161822\n",
      "ba_005 1.0666519288161822\n",
      "ba_006 1.0666519288161822\n",
      "ba_007 1.0666519288161822\n",
      "ba_008 1.0666519288161822\n",
      "ba_009 1.0666519288161822\n",
      "bb_000 1.055598540952802\n",
      "bc_000 4.783353597877749\n",
      "bd_000 4.786116944843594\n",
      "be_000 4.3937216756936\n",
      "bf_000 4.385431634796065\n",
      "bg_000 1.055598540952802\n",
      "bh_000 1.055598540952802\n",
      "bi_000 0.9533547032165359\n",
      "bj_000 0.9533547032165359\n",
      "bk_000 38.19774510887587\n",
      "bl_000 45.13927268707859\n",
      "bm_000 65.5189565601857\n",
      "bn_000 72.76168895766553\n",
      "bo_000 76.53365756604398\n",
      "bp_000 78.79407538410523\n",
      "bq_000 80.50182380899746\n",
      "br_000 81.41096496076047\n",
      "bs_000 1.1578423786890681\n",
      "bt_000 0.23764783906267273\n",
      "bu_000 1.1136288272355477\n",
      "bv_000 1.1136288272355477\n",
      "bx_000 5.236542500276334\n",
      "by_000 0.7433403338123135\n",
      "bz_000 4.7778269039460595\n",
      "ca_000 7.596440809107992\n",
      "cb_000 1.1578423786890681\n",
      "cc_000 5.23377915331049\n",
      "cd_000 1.1108654802697027\n",
      "ce_000 4.3937216756936\n",
      "cf_000 25.422792085774287\n",
      "cg_000 25.422792085774287\n",
      "ch_000 25.422792085774287\n",
      "ci_000 0.5609594340665414\n",
      "cj_000 0.5609594340665414\n",
      "ck_000 0.5609594340665414\n",
      "cl_000 15.930695258096605\n",
      "cm_000 16.527578202719134\n",
      "cn_000 1.0638885818503372\n",
      "cn_001 1.0638885818503372\n",
      "cn_002 1.0638885818503372\n",
      "cn_003 1.0638885818503372\n",
      "cn_004 1.0638885818503372\n",
      "cn_005 1.0638885818503372\n",
      "cn_006 1.0638885818503372\n",
      "cn_007 1.0638885818503372\n",
      "cn_008 1.0638885818503372\n",
      "cn_009 1.0638885818503372\n",
      "co_000 25.422792085774287\n",
      "cp_000 4.780590250911905\n",
      "cq_000 1.1136288272355477\n",
      "cr_000 77.086326959213\n",
      "cs_000 1.0445451530894219\n",
      "cs_001 1.0445451530894219\n",
      "cs_002 1.0445451530894219\n",
      "cs_003 1.0445451530894219\n",
      "cs_004 1.0445451530894219\n",
      "cs_005 1.0445451530894219\n",
      "cs_006 1.0445451530894219\n",
      "cs_007 1.0445451530894219\n",
      "cs_008 1.0445451530894219\n",
      "cs_009 1.0445451530894219\n",
      "ct_000 23.54924284293136\n",
      "cu_000 23.54924284293136\n",
      "cv_000 23.54924284293136\n",
      "cx_000 23.54924284293136\n",
      "cy_000 23.54924284293136\n",
      "cz_000 23.54924284293136\n",
      "da_000 23.54924284293136\n",
      "db_000 23.54924284293136\n",
      "dc_000 23.54924284293136\n",
      "dd_000 4.396485022659445\n",
      "de_000 4.780590250911905\n",
      "df_000 7.032718028075605\n",
      "dg_000 7.032718028075605\n",
      "dh_000 7.032718028075605\n",
      "di_000 7.0271913341439145\n",
      "dj_000 7.02995468110976\n",
      "dk_000 7.02995468110976\n",
      "dl_000 7.032718028075605\n",
      "dm_000 7.035481375041449\n",
      "dn_000 1.1136288272355477\n",
      "do_000 4.780590250911905\n",
      "dp_000 4.786116944843594\n",
      "dq_000 4.786116944843594\n",
      "dr_000 4.783353597877749\n",
      "ds_000 4.786116944843594\n",
      "dt_000 4.786116944843594\n",
      "du_000 4.783353597877749\n",
      "dv_000 4.783353597877749\n",
      "dx_000 4.7778269039460595\n",
      "dy_000 4.780590250911905\n",
      "dz_000 4.7778269039460595\n",
      "ea_000 4.7778269039460595\n",
      "eb_000 7.02995468110976\n",
      "ec_00 17.157621310931802\n",
      "ed_000 15.930695258096605\n",
      "ee_000 1.0473085000552669\n",
      "ee_001 1.0473085000552669\n",
      "ee_002 1.0473085000552669\n",
      "ee_003 1.0473085000552669\n",
      "ee_004 1.0473085000552669\n",
      "ee_005 1.0473085000552669\n",
      "ee_006 1.0473085000552669\n",
      "ee_007 1.0473085000552669\n",
      "ee_008 1.0473085000552669\n",
      "ee_009 1.0473085000552669\n",
      "ef_000 4.780590250911905\n",
      "eg_000 4.7778269039460595\n"
     ]
    }
   ],
   "source": [
    "drop_columns_name=[]\n",
    "\n",
    "for columns,missing_percetage in zip((df.isnull().sum()/df.shape[0]).index,(df.isnull().sum()/df.shape[0]).values):\n",
    "\n",
    "    print(columns,missing_percetage*100)\n",
    "    if missing_percetage>0.3:\n",
    "        drop_columns_name.append(columns)\n"
   ]
  },
  {
   "cell_type": "code",
   "execution_count": 8,
   "metadata": {},
   "outputs": [
    {
     "data": {
      "text/plain": [
       "['ab_000',\n",
       " 'bk_000',\n",
       " 'bl_000',\n",
       " 'bm_000',\n",
       " 'bn_000',\n",
       " 'bo_000',\n",
       " 'bp_000',\n",
       " 'bq_000',\n",
       " 'br_000',\n",
       " 'cr_000']"
      ]
     },
     "execution_count": 8,
     "metadata": {},
     "output_type": "execute_result"
    }
   ],
   "source": [
    "drop_columns_name"
   ]
  },
  {
   "cell_type": "code",
   "execution_count": 9,
   "metadata": {},
   "outputs": [],
   "source": [
    "null_report=df.isnull().sum()/df.shape[0]"
   ]
  },
  {
   "cell_type": "code",
   "execution_count": 10,
   "metadata": {},
   "outputs": [
    {
     "data": {
      "text/plain": [
       "pandas.core.series.Series"
      ]
     },
     "execution_count": 10,
     "metadata": {},
     "output_type": "execute_result"
    }
   ],
   "source": [
    "type(null_report)\n",
    "    "
   ]
  },
  {
   "cell_type": "code",
   "execution_count": 11,
   "metadata": {},
   "outputs": [
    {
     "data": {
      "text/plain": [
       "ab_000    0.770863\n",
       "bk_000    0.381977\n",
       "bl_000    0.451393\n",
       "bm_000    0.655190\n",
       "bn_000    0.727617\n",
       "bo_000    0.765337\n",
       "bp_000    0.787941\n",
       "bq_000    0.805018\n",
       "br_000    0.814110\n",
       "cr_000    0.770863\n",
       "dtype: float64"
      ]
     },
     "execution_count": 11,
     "metadata": {},
     "output_type": "execute_result"
    }
   ],
   "source": [
    "null_report[null_report>.3]"
   ]
  },
  {
   "cell_type": "code",
   "execution_count": 17,
   "metadata": {},
   "outputs": [
    {
     "data": {
      "text/plain": [
       "0"
      ]
     },
     "execution_count": 17,
     "metadata": {},
     "output_type": "execute_result"
    }
   ],
   "source": [
    "len(df.iloc[:,[0]].drop('class',axis=1).columns)"
   ]
  },
  {
   "cell_type": "code",
   "execution_count": null,
   "metadata": {},
   "outputs": [],
   "source": []
  },
  {
   "cell_type": "code",
   "execution_count": null,
   "metadata": {},
   "outputs": [],
   "source": []
  },
  {
   "cell_type": "code",
   "execution_count": null,
   "metadata": {},
   "outputs": [],
   "source": []
  },
  {
   "cell_type": "code",
   "execution_count": null,
   "metadata": {},
   "outputs": [],
   "source": []
  },
  {
   "cell_type": "code",
   "execution_count": null,
   "metadata": {},
   "outputs": [],
   "source": []
  }
 ],
 "metadata": {
  "kernelspec": {
   "display_name": "Python 3.8.10 64-bit",
   "language": "python",
   "name": "python3"
  },
  "language_info": {
   "codemirror_mode": {
    "name": "ipython",
    "version": 3
   },
   "file_extension": ".py",
   "mimetype": "text/x-python",
   "name": "python",
   "nbconvert_exporter": "python",
   "pygments_lexer": "ipython3",
   "version": "3.8.10"
  },
  "orig_nbformat": 4,
  "vscode": {
   "interpreter": {
    "hash": "e7370f93d1d0cde622a1f8e1c04877d8463912d04d973331ad4851f04de6915a"
   }
  }
 },
 "nbformat": 4,
 "nbformat_minor": 2
}
